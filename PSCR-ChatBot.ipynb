{
 "cells": [
  {
   "cell_type": "code",
   "execution_count": 1,
   "id": "8d2e6f89",
   "metadata": {},
   "outputs": [
    {
     "name": "stdout",
     "output_type": "stream",
     "text": [
      "Requirement already satisfied: llama-index in c:\\users\\91983\\anaconda3\\lib\\site-packages (0.10.56)\n",
      "Requirement already satisfied: llama-index-llms-openai<0.2.0,>=0.1.13 in c:\\users\\91983\\anaconda3\\lib\\site-packages (from llama-index) (0.1.26)\n",
      "Requirement already satisfied: llama-index-embeddings-openai<0.2.0,>=0.1.5 in c:\\users\\91983\\anaconda3\\lib\\site-packages (from llama-index) (0.1.11)\n",
      "Requirement already satisfied: llama-index-agent-openai<0.3.0,>=0.1.4 in c:\\users\\91983\\anaconda3\\lib\\site-packages (from llama-index) (0.2.9)\n",
      "Requirement already satisfied: llama-index-core==0.10.56 in c:\\users\\91983\\anaconda3\\lib\\site-packages (from llama-index) (0.10.56)\n",
      "Requirement already satisfied: llama-index-indices-managed-llama-cloud>=0.2.0 in c:\\users\\91983\\anaconda3\\lib\\site-packages (from llama-index) (0.2.5)\n",
      "Requirement already satisfied: llama-index-multi-modal-llms-openai<0.2.0,>=0.1.3 in c:\\users\\91983\\anaconda3\\lib\\site-packages (from llama-index) (0.1.8)\n",
      "Requirement already satisfied: llama-index-question-gen-openai<0.2.0,>=0.1.2 in c:\\users\\91983\\anaconda3\\lib\\site-packages (from llama-index) (0.1.3)\n",
      "Requirement already satisfied: llama-index-cli<0.2.0,>=0.1.2 in c:\\users\\91983\\anaconda3\\lib\\site-packages (from llama-index) (0.1.12)\n",
      "Requirement already satisfied: llama-index-readers-file<0.2.0,>=0.1.4 in c:\\users\\91983\\anaconda3\\lib\\site-packages (from llama-index) (0.1.30)\n",
      "Requirement already satisfied: llama-index-readers-llama-parse>=0.1.2 in c:\\users\\91983\\anaconda3\\lib\\site-packages (from llama-index) (0.1.6)\n",
      "Requirement already satisfied: llama-index-legacy<0.10.0,>=0.9.48 in c:\\users\\91983\\anaconda3\\lib\\site-packages (from llama-index) (0.9.48)\n",
      "Requirement already satisfied: llama-index-program-openai<0.2.0,>=0.1.3 in c:\\users\\91983\\anaconda3\\lib\\site-packages (from llama-index) (0.1.6)\n",
      "Requirement already satisfied: pillow>=9.0.0 in c:\\users\\91983\\anaconda3\\lib\\site-packages (from llama-index-core==0.10.56->llama-index) (9.4.0)\n",
      "Requirement already satisfied: tiktoken>=0.3.3 in c:\\users\\91983\\anaconda3\\lib\\site-packages (from llama-index-core==0.10.56->llama-index) (0.7.0)\n",
      "Requirement already satisfied: tqdm<5.0.0,>=4.66.1 in c:\\users\\91983\\anaconda3\\lib\\site-packages (from llama-index-core==0.10.56->llama-index) (4.66.4)\n",
      "Requirement already satisfied: httpx in c:\\users\\91983\\anaconda3\\lib\\site-packages (from llama-index-core==0.10.56->llama-index) (0.27.0)\n",
      "Requirement already satisfied: fsspec>=2023.5.0 in c:\\users\\91983\\anaconda3\\lib\\site-packages (from llama-index-core==0.10.56->llama-index) (2024.6.0)\n",
      "Requirement already satisfied: PyYAML>=6.0.1 in c:\\users\\91983\\anaconda3\\lib\\site-packages (from llama-index-core==0.10.56->llama-index) (6.0.1)\n",
      "Requirement already satisfied: networkx>=3.0 in c:\\users\\91983\\anaconda3\\lib\\site-packages (from llama-index-core==0.10.56->llama-index) (3.3)\n",
      "Requirement already satisfied: numpy<2.0.0 in c:\\users\\91983\\anaconda3\\lib\\site-packages (from llama-index-core==0.10.56->llama-index) (1.23.5)\n",
      "Requirement already satisfied: wrapt in c:\\users\\91983\\anaconda3\\lib\\site-packages (from llama-index-core==0.10.56->llama-index) (1.14.1)\n",
      "Requirement already satisfied: typing-extensions>=4.5.0 in c:\\users\\91983\\anaconda3\\lib\\site-packages (from llama-index-core==0.10.56->llama-index) (4.10.0)\n",
      "Requirement already satisfied: aiohttp<4.0.0,>=3.8.6 in c:\\users\\91983\\anaconda3\\lib\\site-packages (from llama-index-core==0.10.56->llama-index) (3.9.5)\n",
      "Requirement already satisfied: deprecated>=1.2.9.3 in c:\\users\\91983\\anaconda3\\lib\\site-packages (from llama-index-core==0.10.56->llama-index) (1.2.14)\n",
      "Requirement already satisfied: nltk<4.0.0,>=3.8.1 in c:\\users\\91983\\anaconda3\\lib\\site-packages (from llama-index-core==0.10.56->llama-index) (3.8.1)\n",
      "Requirement already satisfied: pandas in c:\\users\\91983\\anaconda3\\lib\\site-packages (from llama-index-core==0.10.56->llama-index) (1.5.3)\n",
      "Requirement already satisfied: dirtyjson<2.0.0,>=1.0.8 in c:\\users\\91983\\anaconda3\\lib\\site-packages (from llama-index-core==0.10.56->llama-index) (1.0.8)\n",
      "Requirement already satisfied: openai>=1.1.0 in c:\\users\\91983\\appdata\\roaming\\python\\python310\\site-packages (from llama-index-core==0.10.56->llama-index) (1.35.3)\n",
      "Requirement already satisfied: SQLAlchemy[asyncio]>=1.4.49 in c:\\users\\91983\\anaconda3\\lib\\site-packages (from llama-index-core==0.10.56->llama-index) (2.0.31)\n",
      "Requirement already satisfied: requests>=2.31.0 in c:\\users\\91983\\anaconda3\\lib\\site-packages (from llama-index-core==0.10.56->llama-index) (2.32.3)\n",
      "Requirement already satisfied: nest-asyncio<2.0.0,>=1.5.8 in c:\\users\\91983\\anaconda3\\lib\\site-packages (from llama-index-core==0.10.56->llama-index) (1.6.0)\n",
      "Requirement already satisfied: tenacity!=8.4.0,<9.0.0,>=8.2.0 in c:\\users\\91983\\anaconda3\\lib\\site-packages (from llama-index-core==0.10.56->llama-index) (8.3.0)\n",
      "Requirement already satisfied: dataclasses-json in c:\\users\\91983\\anaconda3\\lib\\site-packages (from llama-index-core==0.10.56->llama-index) (0.6.7)\n",
      "Requirement already satisfied: typing-inspect>=0.8.0 in c:\\users\\91983\\anaconda3\\lib\\site-packages (from llama-index-core==0.10.56->llama-index) (0.9.0)\n",
      "Requirement already satisfied: llama-cloud>=0.0.9 in c:\\users\\91983\\anaconda3\\lib\\site-packages (from llama-index-indices-managed-llama-cloud>=0.2.0->llama-index) (0.0.9)\n",
      "Requirement already satisfied: striprtf<0.0.27,>=0.0.26 in c:\\users\\91983\\anaconda3\\lib\\site-packages (from llama-index-readers-file<0.2.0,>=0.1.4->llama-index) (0.0.26)\n",
      "Requirement already satisfied: pypdf<5.0.0,>=4.0.1 in c:\\users\\91983\\anaconda3\\lib\\site-packages (from llama-index-readers-file<0.2.0,>=0.1.4->llama-index) (4.3.0)\n",
      "Requirement already satisfied: beautifulsoup4<5.0.0,>=4.12.3 in c:\\users\\91983\\anaconda3\\lib\\site-packages (from llama-index-readers-file<0.2.0,>=0.1.4->llama-index) (4.12.3)\n",
      "Requirement already satisfied: llama-parse>=0.4.0 in c:\\users\\91983\\anaconda3\\lib\\site-packages (from llama-index-readers-llama-parse>=0.1.2->llama-index) (0.4.9)\n",
      "Requirement already satisfied: aiosignal>=1.1.2 in c:\\users\\91983\\anaconda3\\lib\\site-packages (from aiohttp<4.0.0,>=3.8.6->llama-index-core==0.10.56->llama-index) (1.3.1)\n",
      "Requirement already satisfied: yarl<2.0,>=1.0 in c:\\users\\91983\\anaconda3\\lib\\site-packages (from aiohttp<4.0.0,>=3.8.6->llama-index-core==0.10.56->llama-index) (1.9.4)\n",
      "Requirement already satisfied: attrs>=17.3.0 in c:\\users\\91983\\anaconda3\\lib\\site-packages (from aiohttp<4.0.0,>=3.8.6->llama-index-core==0.10.56->llama-index) (22.1.0)\n",
      "Requirement already satisfied: frozenlist>=1.1.1 in c:\\users\\91983\\anaconda3\\lib\\site-packages (from aiohttp<4.0.0,>=3.8.6->llama-index-core==0.10.56->llama-index) (1.4.1)\n",
      "Requirement already satisfied: multidict<7.0,>=4.5 in c:\\users\\91983\\anaconda3\\lib\\site-packages (from aiohttp<4.0.0,>=3.8.6->llama-index-core==0.10.56->llama-index) (6.0.5)\n",
      "Requirement already satisfied: async-timeout<5.0,>=4.0 in c:\\users\\91983\\anaconda3\\lib\\site-packages (from aiohttp<4.0.0,>=3.8.6->llama-index-core==0.10.56->llama-index) (4.0.3)\n",
      "Requirement already satisfied: soupsieve>1.2 in c:\\users\\91983\\anaconda3\\lib\\site-packages (from beautifulsoup4<5.0.0,>=4.12.3->llama-index-readers-file<0.2.0,>=0.1.4->llama-index) (2.3.2.post1)\n",
      "Requirement already satisfied: pydantic>=1.10 in c:\\users\\91983\\anaconda3\\lib\\site-packages (from llama-cloud>=0.0.9->llama-index-indices-managed-llama-cloud>=0.2.0->llama-index) (2.6.4)\n",
      "Requirement already satisfied: certifi in c:\\users\\91983\\anaconda3\\lib\\site-packages (from httpx->llama-index-core==0.10.56->llama-index) (2023.11.17)\n",
      "Requirement already satisfied: sniffio in c:\\users\\91983\\anaconda3\\lib\\site-packages (from httpx->llama-index-core==0.10.56->llama-index) (1.2.0)\n",
      "Requirement already satisfied: idna in c:\\users\\91983\\anaconda3\\lib\\site-packages (from httpx->llama-index-core==0.10.56->llama-index) (3.4)\n",
      "Requirement already satisfied: anyio in c:\\users\\91983\\anaconda3\\lib\\site-packages (from httpx->llama-index-core==0.10.56->llama-index) (3.5.0)\n",
      "Requirement already satisfied: httpcore==1.* in c:\\users\\91983\\anaconda3\\lib\\site-packages (from httpx->llama-index-core==0.10.56->llama-index) (1.0.5)\n",
      "Requirement already satisfied: h11<0.15,>=0.13 in c:\\users\\91983\\anaconda3\\lib\\site-packages (from httpcore==1.*->httpx->llama-index-core==0.10.56->llama-index) (0.14.0)\n",
      "Requirement already satisfied: regex>=2021.8.3 in c:\\users\\91983\\anaconda3\\lib\\site-packages (from nltk<4.0.0,>=3.8.1->llama-index-core==0.10.56->llama-index) (2022.7.9)\n",
      "Requirement already satisfied: click in c:\\users\\91983\\anaconda3\\lib\\site-packages (from nltk<4.0.0,>=3.8.1->llama-index-core==0.10.56->llama-index) (8.0.4)\n",
      "Requirement already satisfied: joblib in c:\\users\\91983\\anaconda3\\lib\\site-packages (from nltk<4.0.0,>=3.8.1->llama-index-core==0.10.56->llama-index) (1.1.1)\n",
      "Requirement already satisfied: distro<2,>=1.7.0 in c:\\users\\91983\\anaconda3\\lib\\site-packages (from openai>=1.1.0->llama-index-core==0.10.56->llama-index) (1.9.0)\n",
      "Requirement already satisfied: charset-normalizer<4,>=2 in c:\\users\\91983\\anaconda3\\lib\\site-packages (from requests>=2.31.0->llama-index-core==0.10.56->llama-index) (2.0.4)\n",
      "Requirement already satisfied: urllib3<3,>=1.21.1 in c:\\users\\91983\\anaconda3\\lib\\site-packages (from requests>=2.31.0->llama-index-core==0.10.56->llama-index) (1.26.14)\n",
      "Requirement already satisfied: greenlet!=0.4.17 in c:\\users\\91983\\anaconda3\\lib\\site-packages (from SQLAlchemy[asyncio]>=1.4.49->llama-index-core==0.10.56->llama-index) (2.0.1)\n",
      "Requirement already satisfied: colorama in c:\\users\\91983\\anaconda3\\lib\\site-packages (from tqdm<5.0.0,>=4.66.1->llama-index-core==0.10.56->llama-index) (0.4.6)\n",
      "Requirement already satisfied: mypy-extensions>=0.3.0 in c:\\users\\91983\\anaconda3\\lib\\site-packages (from typing-inspect>=0.8.0->llama-index-core==0.10.56->llama-index) (0.4.3)\n",
      "Requirement already satisfied: marshmallow<4.0.0,>=3.18.0 in c:\\users\\91983\\anaconda3\\lib\\site-packages (from dataclasses-json->llama-index-core==0.10.56->llama-index) (3.21.3)\n",
      "Requirement already satisfied: pytz>=2020.1 in c:\\users\\91983\\anaconda3\\lib\\site-packages (from pandas->llama-index-core==0.10.56->llama-index) (2022.7)\n",
      "Requirement already satisfied: python-dateutil>=2.8.1 in c:\\users\\91983\\anaconda3\\lib\\site-packages (from pandas->llama-index-core==0.10.56->llama-index) (2.8.2)\n",
      "Requirement already satisfied: packaging>=17.0 in c:\\users\\91983\\anaconda3\\lib\\site-packages (from marshmallow<4.0.0,>=3.18.0->dataclasses-json->llama-index-core==0.10.56->llama-index) (24.1)\n",
      "Requirement already satisfied: pydantic-core==2.16.3 in c:\\users\\91983\\anaconda3\\lib\\site-packages (from pydantic>=1.10->llama-cloud>=0.0.9->llama-index-indices-managed-llama-cloud>=0.2.0->llama-index) (2.16.3)\n",
      "Requirement already satisfied: annotated-types>=0.4.0 in c:\\users\\91983\\anaconda3\\lib\\site-packages (from pydantic>=1.10->llama-cloud>=0.0.9->llama-index-indices-managed-llama-cloud>=0.2.0->llama-index) (0.6.0)\n",
      "Requirement already satisfied: six>=1.5 in c:\\users\\91983\\anaconda3\\lib\\site-packages (from python-dateutil>=2.8.1->pandas->llama-index-core==0.10.56->llama-index) (1.16.0)\n"
     ]
    },
    {
     "name": "stdout",
     "output_type": "stream",
     "text": [
      "Requirement already satisfied: pypdf in c:\\users\\91983\\anaconda3\\lib\\site-packages (4.3.0)\n",
      "Requirement already satisfied: typing_extensions>=4.0 in c:\\users\\91983\\anaconda3\\lib\\site-packages (from pypdf) (4.10.0)\n",
      "Requirement already satisfied: openai in c:\\users\\91983\\appdata\\roaming\\python\\python310\\site-packages (1.35.3)\n",
      "Requirement already satisfied: distro<2,>=1.7.0 in c:\\users\\91983\\anaconda3\\lib\\site-packages (from openai) (1.9.0)\n",
      "Requirement already satisfied: anyio<5,>=3.5.0 in c:\\users\\91983\\anaconda3\\lib\\site-packages (from openai) (3.5.0)\n",
      "Requirement already satisfied: sniffio in c:\\users\\91983\\anaconda3\\lib\\site-packages (from openai) (1.2.0)\n",
      "Requirement already satisfied: httpx<1,>=0.23.0 in c:\\users\\91983\\anaconda3\\lib\\site-packages (from openai) (0.27.0)\n",
      "Requirement already satisfied: tqdm>4 in c:\\users\\91983\\anaconda3\\lib\\site-packages (from openai) (4.66.4)\n",
      "Requirement already satisfied: pydantic<3,>=1.9.0 in c:\\users\\91983\\anaconda3\\lib\\site-packages (from openai) (2.6.4)\n",
      "Requirement already satisfied: typing-extensions<5,>=4.7 in c:\\users\\91983\\anaconda3\\lib\\site-packages (from openai) (4.10.0)\n",
      "Requirement already satisfied: idna>=2.8 in c:\\users\\91983\\anaconda3\\lib\\site-packages (from anyio<5,>=3.5.0->openai) (3.4)\n",
      "Requirement already satisfied: certifi in c:\\users\\91983\\anaconda3\\lib\\site-packages (from httpx<1,>=0.23.0->openai) (2023.11.17)\n",
      "Requirement already satisfied: httpcore==1.* in c:\\users\\91983\\anaconda3\\lib\\site-packages (from httpx<1,>=0.23.0->openai) (1.0.5)\n",
      "Requirement already satisfied: h11<0.15,>=0.13 in c:\\users\\91983\\anaconda3\\lib\\site-packages (from httpcore==1.*->httpx<1,>=0.23.0->openai) (0.14.0)\n",
      "Requirement already satisfied: annotated-types>=0.4.0 in c:\\users\\91983\\anaconda3\\lib\\site-packages (from pydantic<3,>=1.9.0->openai) (0.6.0)\n",
      "Requirement already satisfied: pydantic-core==2.16.3 in c:\\users\\91983\\anaconda3\\lib\\site-packages (from pydantic<3,>=1.9.0->openai) (2.16.3)\n",
      "Requirement already satisfied: colorama in c:\\users\\91983\\anaconda3\\lib\\site-packages (from tqdm>4->openai) (0.4.6)\n"
     ]
    }
   ],
   "source": [
    "## installing all the required libraries\n",
    "\n",
    "!pip install llama-index\n",
    "!pip install pypdf\n",
    "!pip install openai"
   ]
  },
  {
   "cell_type": "code",
   "execution_count": 4,
   "id": "19cf6c46",
   "metadata": {},
   "outputs": [
    {
     "name": "stdout",
     "output_type": "stream",
     "text": [
      "Name: llama-index\n",
      "Version: 0.10.56\n",
      "Summary: Interface between LLMs and your data\n",
      "Home-page: https://llamaindex.ai\n",
      "Author: Jerry Liu\n",
      "Author-email: jerry@llamaindex.ai\n",
      "License: MIT\n",
      "Location: c:\\users\\91983\\anaconda3\\lib\\site-packages\n",
      "Requires: llama-index-agent-openai, llama-index-cli, llama-index-core, llama-index-embeddings-openai, llama-index-indices-managed-llama-cloud, llama-index-legacy, llama-index-llms-openai, llama-index-multi-modal-llms-openai, llama-index-program-openai, llama-index-question-gen-openai, llama-index-readers-file, llama-index-readers-llama-parse\n",
      "Required-by: \n"
     ]
    }
   ],
   "source": [
    "# command to cross check if llama_index is installed or not\n",
    "!pip show llama_index"
   ]
  },
  {
   "cell_type": "code",
   "execution_count": 5,
   "id": "b5d10085",
   "metadata": {},
   "outputs": [],
   "source": [
    "## importing neccessary library\n",
    "import llama_index\n",
    "import openai\n",
    "from llama_index.core import SimpleDirectoryReader ,VectorStoreIndex\n",
    "from llama_index.core.node_parser import SimpleNodeParser\n",
    "from llama_index.core.retrievers import VectorIndexRetriever\n",
    "from llama_index.core.indices.postprocessor import SimilarityPostprocessor\n",
    "from llama_index.core.query_engine import RetrieverQueryEngine\n",
    "from IPython.display import display, HTML\n",
    "\n"
   ]
  },
  {
   "cell_type": "code",
   "execution_count": 6,
   "id": "4800d0c6",
   "metadata": {},
   "outputs": [],
   "source": [
    "'''\n",
    "This is the initial setup method\n",
    "This method is used to create a documents and then get document parsed to node ,which is then \n",
    "indexed using vectorstoreindex class and then we create a query engine out of index. \n",
    "\n",
    "'''\n",
    "\n",
    "def init():\n",
    "    global queryEngine\n",
    "    # loading data through reader and create a documnet\n",
    "    reader = SimpleDirectoryReader(input_dir=\"./dataPDF\")\n",
    "    documents = reader.load_data()\n",
    "\n",
    "    # create parser and parse document into nodes\n",
    "    parser = SimpleNodeParser.from_defaults()\n",
    "    nodes = parser.get_nodes_from_documents(documents=documents)\n",
    "\n",
    "    #  build index\n",
    "    index  = VectorStoreIndex(nodes)\n",
    "    # Construct Query Engine\n",
    "    queryEngine = index.as_query_engine()\n",
    "   \n",
    "\n"
   ]
  },
  {
   "cell_type": "code",
   "execution_count": null,
   "id": "dae2ce4c",
   "metadata": {},
   "outputs": [],
   "source": []
  },
  {
   "cell_type": "code",
   "execution_count": null,
   "id": "1b44f251",
   "metadata": {},
   "outputs": [],
   "source": []
  },
  {
   "cell_type": "code",
   "execution_count": 7,
   "id": "6936e0d0",
   "metadata": {},
   "outputs": [],
   "source": [
    "\n",
    "\n",
    "\n",
    "## Query response function\n",
    "'''\n",
    "This method takes user input and get result from query engine and analyze it and then it produce\n",
    "result in a given format that includes <response fetched>+<document from where this reponse is fetched>  \n",
    "'''\n",
    "def query_response(user_input):\n",
    "    response = queryEngine.query(user_input)\n",
    "    analyzed_response = get_response(response.response)\n",
    "    final_response = 'I am not having sufficent resource available.Please connect with admin for any information on it.'\n",
    "    if analyzed_response == 'Positive':\n",
    "        file_name = response.source_nodes[0].node.metadata['file_name']\n",
    "        final_response = response.response + '\\n Check further at ' + file_name + ' document'\n",
    "\n",
    "    return final_response"
   ]
  },
  {
   "cell_type": "code",
   "execution_count": null,
   "id": "b37d05fa",
   "metadata": {},
   "outputs": [],
   "source": [
    "\n",
    "    "
   ]
  },
  {
   "cell_type": "code",
   "execution_count": 8,
   "id": "8371aeea",
   "metadata": {},
   "outputs": [],
   "source": [
    "'''\n",
    "This method is used  to classify query engine response  sentiment as Positive or Negative\n",
    "'''\n",
    "def get_response(example):\n",
    "    \n",
    "    response = openai.chat.completions.create(\n",
    "    model=\"gpt-3.5-turbo-0125\",\n",
    "    messages=[\n",
    "      {\n",
    "        \"role\": \"system\",\n",
    "        \"content\": \"You will be provided with a paragraph, and your task is to classify its sentiment as Positive or Negative\"\n",
    "      },\n",
    "      {\n",
    "        \"role\": \"user\",\n",
    "        \"content\": \"I'm sorry, but I am unable to provide a relevant answer to the query gvchj based on the context information provided\"\n",
    "      },\n",
    "      {\n",
    "        \"role\": \"assistant\",\n",
    "        \"content\": \"Negative\"\n",
    "      },\n",
    "      {\n",
    "        \"role\": \"user\",\n",
    "        \"content\": \"I'm sorry, I couldn't find any relevant information or answer to the query provided.\"\n",
    "      },\n",
    "      {\n",
    "        \"role\": \"assistant\",\n",
    "        \"content\": \"Negative\"\n",
    "      },\n",
    "      {\n",
    "        \"role\": \"user\",\n",
    "        \"content\": \"To create a permit application, you need to define permit types by setting up permit categories, defining permit statuses, setting up workflows and fee models, creating permit types, designing permit application forms, and more\"\n",
    "      },\n",
    "      {\n",
    "        \"role\": \"assistant\",\n",
    "        \"content\": \"Positive\"\n",
    "      },\n",
    "      {\n",
    "        \"role\": \"user\",\n",
    "        \"content\": \"To delete a contact, you should follow these steps:\\n1. Select Common Setup > Contact Type.\\n2. Click a row on the Contact Type page.\"\n",
    "      },\n",
    "      {\n",
    "        \"role\": \"assistant\",\n",
    "        \"content\": \"Positive\"\n",
    "      },\n",
    "      {\n",
    "        \"role\": \"user\",\n",
    "        \"content\": \"Oracle Corporation and its affiliates are not responsible for and expressly disclaim all warranties of any kind with respect to third-party content, products, and services unless otherwise set forth in an applicable agreement between you and Oracle\"\n",
    "      },\n",
    "      {\n",
    "        \"role\": \"assistant\",\n",
    "        \"content\": \"Positive\"\n",
    "      },\n",
    "      {\n",
    "        \"role\": \"user\",\n",
    "        \"content\": \"I'm sorry, I couldn't find any relevant information or answer to the query provided. If you have any other questions or need assistance, feel free to ask.\"\n",
    "      },\n",
    "      {\n",
    "        \"role\": \"assistant\",\n",
    "        \"content\": \"Negative\"\n",
    "      },\n",
    "     {\n",
    "      \"role\": \"user\",\n",
    "      \"content\": f\"\"\"{example} \"\"\"\n",
    "    }\n",
    "    ]\n",
    "   )\n",
    "    return response.choices[0].message.content\n"
   ]
  },
  {
   "cell_type": "code",
   "execution_count": 11,
   "id": "ce9c525a",
   "metadata": {},
   "outputs": [],
   "source": [
    "'''\n",
    "This is the conversation ini\n",
    "'''\n",
    "\n",
    "def initialize_conv():\n",
    "    # calling the init method so that our query engine is ready\n",
    "    init()\n",
    "    print(\"Hi! I am Ivan ,How can I help you on Oracle doc.?write exit once you are done.\")\n",
    "    \n",
    "    while True:\n",
    "        input_qry = input(\"Enter your query here    \")\n",
    "        if input_qry.lower() == 'exit':\n",
    "            print('Thanks for your Time.Bye')\n",
    "            break\n",
    "        else:\n",
    "            response = query_response(input_qry)\n",
    "            display(HTML(f'<p style=\"font-size:20px\">{response}</p>'))"
   ]
  },
  {
   "cell_type": "code",
   "execution_count": 12,
   "id": "772c964c",
   "metadata": {},
   "outputs": [
    {
     "name": "stdout",
     "output_type": "stream",
     "text": [
      "Hi! I am Ivan ,How can I help you on Oracle doc.?write exit once you are done.\n",
      "Enter your query here    How to register a new user from public user access page\n"
     ]
    },
    {
     "data": {
      "text/html": [
       "<p style=\"font-size:20px\">To register a new user from the public user access page, you need to follow these steps:\n",
       "1. Go to Common Setup > Public User Setup.\n",
       "2. Configure the options in the Terms of Use section, Contractor and License section, and Attachments section as needed.\n",
       "3. Enter a user category for appropriate notification content and URL redirection parameters for system access.\n",
       "4. Click Save to save the settings.\n",
       "5. Use the Security Console to create a specific set of roles for public users, including custom roles that provide access to permit-related functionality.\n",
       "6. Create the single role assigned during user registration and set up its role hierarchy.\n",
       "7. Use the Public User Roles page to identify the role to be assigned during user registration.\n",
       " Check further at implementing-your-agency.pdf document</p>"
      ],
      "text/plain": [
       "<IPython.core.display.HTML object>"
      ]
     },
     "metadata": {},
     "output_type": "display_data"
    },
    {
     "name": "stdout",
     "output_type": "stream",
     "text": [
      "Enter your query here    how to smoke cigarette\n"
     ]
    },
    {
     "data": {
      "text/html": [
       "<p style=\"font-size:20px\">I am not having sufficent resource available.Please connect with admin for any information on it.</p>"
      ],
      "text/plain": [
       "<IPython.core.display.HTML object>"
      ]
     },
     "metadata": {},
     "output_type": "display_data"
    },
    {
     "name": "stdout",
     "output_type": "stream",
     "text": [
      "Enter your query here    how to create a contact\n"
     ]
    },
    {
     "data": {
      "text/html": [
       "<p style=\"font-size:20px\">To create a contact, you need to follow these steps:\n",
       "1. Select Common Setup > Contact Type.\n",
       "2. Click Add on the Contact Type page.\n",
       "3. Enter the type of contact and a description on the Contact Type Detail page.\n",
       "4. Verify that the Enabled switch is turned on.\n",
       "5. Click Save.\n",
       " Check further at implementing-your-agency.pdf document</p>"
      ],
      "text/plain": [
       "<IPython.core.display.HTML object>"
      ]
     },
     "metadata": {},
     "output_type": "display_data"
    },
    {
     "name": "stdout",
     "output_type": "stream",
     "text": [
      "Enter your query here    how is weather today \n"
     ]
    },
    {
     "data": {
      "text/html": [
       "<p style=\"font-size:20px\">I'm here to provide information on setting up property conditions and agency conditions within the Oracle Public Sector Compliance and Regulation Cloud software.\n",
       " Check further at implementing-your-agency.pdf document</p>"
      ],
      "text/plain": [
       "<IPython.core.display.HTML object>"
      ]
     },
     "metadata": {},
     "output_type": "display_data"
    },
    {
     "name": "stdout",
     "output_type": "stream",
     "text": [
      "Enter your query here    drinking water\n"
     ]
    },
    {
     "data": {
      "text/html": [
       "<p style=\"font-size:20px\">I am not having sufficent resource available.Please connect with admin for any information on it.</p>"
      ],
      "text/plain": [
       "<IPython.core.display.HTML object>"
      ]
     },
     "metadata": {},
     "output_type": "display_data"
    },
    {
     "name": "stdout",
     "output_type": "stream",
     "text": [
      "Enter your query here    exit\n",
      "Thanks for your Time.Bye\n"
     ]
    }
   ],
   "source": [
    "initialize_conv()"
   ]
  },
  {
   "cell_type": "code",
   "execution_count": null,
   "id": "e3d7611f",
   "metadata": {},
   "outputs": [],
   "source": []
  },
  {
   "cell_type": "code",
   "execution_count": null,
   "id": "d2c3c338",
   "metadata": {},
   "outputs": [],
   "source": []
  },
  {
   "cell_type": "code",
   "execution_count": null,
   "id": "e2a38a5c",
   "metadata": {},
   "outputs": [],
   "source": []
  }
 ],
 "metadata": {
  "kernelspec": {
   "display_name": "Python 3 (ipykernel)",
   "language": "python",
   "name": "python3"
  },
  "language_info": {
   "codemirror_mode": {
    "name": "ipython",
    "version": 3
   },
   "file_extension": ".py",
   "mimetype": "text/x-python",
   "name": "python",
   "nbconvert_exporter": "python",
   "pygments_lexer": "ipython3",
   "version": "3.10.9"
  }
 },
 "nbformat": 4,
 "nbformat_minor": 5
}
